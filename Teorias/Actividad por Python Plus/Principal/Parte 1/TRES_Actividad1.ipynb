{
 "cells": [
  {
   "cell_type": "markdown",
   "id": "b015a19f",
   "metadata": {},
   "source": [
    "# Actividad 1  por Python plus - Parte I \n",
    "\n",
    "## Resolvé el siguiente desafío:"
   ]
  },
  {
   "cell_type": "markdown",
   "id": "14eb10c9",
   "metadata": {},
   "source": [
    "**EJERCICIO 3:** dado el archivo denominado [log_catedras](https://archivos.linti.unlp.edu.ar/index.php/s/ofgZh41dUYMYX6H) que contiene  el registro de  accesos al entorno catedras.linti, se desea:\n",
    "1. Generar una función que retorne los usuarios que nunca vieron el estado de la entrega 1. Esto se puede chequear si la columna \"Contexto del evento\" contiene el texto \"Tarea: Entrega 1\" y la columna \"Nombre evento\" contiene el texto \"Se ha visualizado el estado de la entrega.\". Esta función recibe un parámetro opcional que puede contener: \"A\", para pasar los nombres de usuario  a mayúsculas: \"a\", para pasarlos a mimúsculas o \"None\" si se dejan tal como se encuentran en el archivo. Por defecto la función retorna los nombres tales como aparecen en el archivo. \n",
    "2. Escribir un programa que, utilizando la función anterior, muestre un listado similar al siguiente:\n",
    " \n",
    "```\n",
    "---------------------\n",
    "Usuario en el sistema \n",
    "---------------------\n",
    "\n",
    "-----Butterfree-----\n",
    "------Pikachu-------\n",
    "-------Oddish-------\n",
    "------Kingler-------\n",
    "-------Tauros-------\n",
    "```"
   ]
  },
  {
   "cell_type": "code",
   "execution_count": 1,
   "id": "5021bb7c",
   "metadata": {},
   "outputs": [
    {
     "ename": "NameError",
     "evalue": "name '__file__' is not defined",
     "output_type": "error",
     "traceback": [
      "\u001b[1;31m---------------------------------------------------------------------------\u001b[0m",
      "\u001b[1;31mNameError\u001b[0m                                 Traceback (most recent call last)",
      "Cell \u001b[1;32mIn[1], line 6\u001b[0m\n\u001b[0;32m      3\u001b[0m \u001b[39mimport\u001b[39;00m \u001b[39mos\u001b[39;00m\n\u001b[0;32m      4\u001b[0m \u001b[39mimport\u001b[39;00m \u001b[39mcsv\u001b[39;00m\n\u001b[1;32m----> 6\u001b[0m PATH \u001b[39m=\u001b[39m os\u001b[39m.\u001b[39mpath\u001b[39m.\u001b[39mdirname(os\u001b[39m.\u001b[39mpath\u001b[39m.\u001b[39mabspath(\u001b[39m__file__\u001b[39;49m))\n\u001b[0;32m      7\u001b[0m os\u001b[39m.\u001b[39mchdir(PATH)\n",
      "\u001b[1;31mNameError\u001b[0m: name '__file__' is not defined"
     ]
    }
   ],
   "source": [
    "#Importamos las librerias necesarias para el desarrollo de la actividad y definimos la ruta del archivo\n",
    "\n",
    "import os\n",
    "import csv\n",
    "\n",
    "PATH = os.path.dirname(os.path.abspath(__file__))\n",
    "os.chdir(PATH)"
   ]
  },
  {
   "cell_type": "code",
   "execution_count": null,
   "id": "158bd9b4",
   "metadata": {},
   "outputs": [],
   "source": [
    "#Definimos la función que nos permite obtener los usuarios que no vieron el estado de la entrega 1\n",
    "\n",
    "def usuarios_sin_estado_entrega1(file, form=None):\n",
    "    \"\"\"Retorna los usuarios que nunca vieron el estado de la entrega 1\"\"\"\n",
    "    users = set()\n",
    "    with open(file, \"r\") as f:\n",
    "        reader = csv.reader(f, delimiter=\",\")\n",
    "        next(reader)  # saltar la primera fila con los encabezados\n",
    "        for row in reader:\n",
    "            context = row[3]\n",
    "            event_name = row[4]\n",
    "            user = row[1]\n",
    "            if \"Tarea: Entrega 1\" in context and \"Se ha visualizado el estado de la entrega.\" in event_name:\n",
    "                continue  # saltar si el usuario vio el estado de la entrega 1\n",
    "            if form == \"A\":\n",
    "                user = user.upper()\n",
    "            elif form == \"a\":\n",
    "                user = user.lower()\n",
    "            users.add(user)\n",
    "    return users\n"
   ]
  },
  {
   "cell_type": "code",
   "execution_count": null,
   "id": "7eb226ce",
   "metadata": {},
   "outputs": [],
   "source": [
    "#Implementamos la función que nos permite imprimir la lista de usuarios segun el formato brindado\n",
    "\n",
    "def imprimir_lista(users):\n",
    "    \"\"\"Imprime la lista de usuarios\"\"\"\n",
    "    print(\"-\"*21)\n",
    "    print(\"Usuario en el sistema\")\n",
    "    print(\"-\"*21)\n",
    "    for user in users:\n",
    "        print(\"-\"*5,user,\"-\"*5)\n",
    "\n"
   ]
  },
  {
   "cell_type": "code",
   "execution_count": null,
   "id": "800417fe",
   "metadata": {},
   "outputs": [],
   "source": [
    "#Implementamos la función principal que nos permite ejecutar el programa con los parametros solicitados por el usuario\n",
    "\n",
    "def main():\n",
    "    \"\"\"Función principal\"\"\"\n",
    "    uppercase = input(\"¿Desea que los usuarios aparezcan en mayúsculas? (A/a/Default): \")\n",
    "    while uppercase not in [\"A\", \"a\", \"Default\"]:\n",
    "        uppercase = input(\"¿Desea que los usuarios aparezcan en mayúsculas? (A/a/Default): \")\n",
    "    if uppercase == \"Default\":\n",
    "        uppercase = None\n",
    "    elif uppercase == \"a\":\n",
    "        uppercase = \"a\"\n",
    "    else:\n",
    "        uppercase = \"A\"\n",
    "    user = sorted(list(usuarios_sin_estado_entrega1(\"log_catedras.csv\", uppercase))) \n",
    "    imprimir_lista(user)\n",
    "\n",
    "\n"
   ]
  },
  {
   "cell_type": "code",
   "execution_count": null,
   "id": "a776ac4e",
   "metadata": {},
   "outputs": [],
   "source": [
    "#Ejecutamos la función principal del programa\n",
    "\n",
    "if __name__ == \"__main__\":\n",
    "    main()"
   ]
  }
 ],
 "metadata": {
  "kernelspec": {
   "display_name": "Python 3 (ipykernel)",
   "language": "python",
   "name": "python3"
  },
  "language_info": {
   "codemirror_mode": {
    "name": "ipython",
    "version": 3
   },
   "file_extension": ".py",
   "mimetype": "text/x-python",
   "name": "python",
   "nbconvert_exporter": "python",
   "pygments_lexer": "ipython3",
   "version": "3.11.3"
  }
 },
 "nbformat": 4,
 "nbformat_minor": 5
}
